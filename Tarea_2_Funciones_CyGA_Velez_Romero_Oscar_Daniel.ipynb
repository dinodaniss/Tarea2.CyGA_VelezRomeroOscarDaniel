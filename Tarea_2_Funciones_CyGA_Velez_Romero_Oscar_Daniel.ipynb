{
  "nbformat": 4,
  "nbformat_minor": 0,
  "metadata": {
    "colab": {
      "provenance": [],
      "authorship_tag": "ABX9TyOITa2KSKaQ9rdNndxHQJ/O",
      "include_colab_link": true
    },
    "kernelspec": {
      "name": "python3",
      "display_name": "Python 3"
    },
    "language_info": {
      "name": "python"
    }
  },
  "cells": [
    {
      "cell_type": "markdown",
      "metadata": {
        "id": "view-in-github",
        "colab_type": "text"
      },
      "source": [
        "<a href=\"https://colab.research.google.com/github/dinodaniss/Tarea2.CyGA_VelezRomeroOscarDaniel/blob/main/Tarea_2_Funciones_CyGA_Velez_Romero_Oscar_Daniel.ipynb\" target=\"_parent\"><img src=\"https://colab.research.google.com/assets/colab-badge.svg\" alt=\"Open In Colab\"/></a>"
      ]
    },
    {
      "cell_type": "markdown",
      "source": [
        "#Tarea 2. Funciones\n",
        "## Calculo y Geometría Analítica\n",
        "### Velez Romero Oscar Daniel\n",
        "1. Obtenga el dominio de las siguientes funciones:\n",
        "\n",
        "\n",
        "> f(x)=x/x^2-x-6\n",
        "\n",
        "\n"
      ],
      "metadata": {
        "id": "PVJutQEhj35J"
      }
    },
    {
      "cell_type": "code",
      "source": [
        "import sympy as sp\n",
        "\n",
        "# Define la variable simbólica x\n",
        "x = sp.symbols('x')\n",
        "\n",
        "# Define la función f(x)\n",
        "f_x = x / (x**2 - x - 6)\n",
        "\n",
        "# Encuentra el dominio de la función\n",
        "dominio = sp.solve(x**2 - x - 6, x)\n",
        "\n",
        "# Imprime el dominio\n",
        "print(\"El dominio de la función es:\", dominio)\n"
      ],
      "metadata": {
        "id": "6tQc9jNHofIC",
        "colab": {
          "base_uri": "https://localhost:8080/"
        },
        "outputId": "48067d3b-4a97-4055-86e8-2a087427a506"
      },
      "execution_count": null,
      "outputs": [
        {
          "output_type": "stream",
          "name": "stdout",
          "text": [
            "El dominio de la función es: [-2, 3]\n"
          ]
        }
      ]
    },
    {
      "cell_type": "markdown",
      "source": [
        "\n",
        "\n",
        "> f(x)= √2x-6/x-5\n",
        "\n"
      ],
      "metadata": {
        "id": "WvxlcbGacenY"
      }
    },
    {
      "cell_type": "code",
      "source": [
        "import sympy as sp\n",
        "\n",
        "# Define la variable simbólica x\n",
        "x = sp.symbols('x')\n",
        "\n",
        "# Define la función f(x)\n",
        "f_x = sp.sqrt(2*x - 6)/(x - 5)\n",
        "\n",
        "# Encuentra el dominio de la función\n",
        "dominio = sp.Interval(3, 5, right_open=True) + sp.Interval(5, sp.oo)\n",
        "\n",
        "# Imprime la función y el dominio\n",
        "print(\"La función f(x) es:\", f_x)\n",
        "print(\"El dominio de la función es:\", dominio)"
      ],
      "metadata": {
        "colab": {
          "base_uri": "https://localhost:8080/"
        },
        "id": "f4ZYESKIXTrE",
        "outputId": "d295b3ae-2653-46c7-9f47-5688e6ac4bc5"
      },
      "execution_count": 45,
      "outputs": [
        {
          "output_type": "stream",
          "name": "stdout",
          "text": [
            "La función f(x) es: sqrt(2*x - 6)/(x - 5)\n",
            "El dominio de la función es: Interval(3, oo)\n"
          ]
        }
      ]
    },
    {
      "cell_type": "markdown",
      "source": [
        "\n",
        "\n",
        "> 2. Obtener la regla de correspondencia en forma explícita y determinar el\n",
        "dominio, rango y gráfica de f.\n",
        "\n",
        "\n",
        "> f = { x = tan(θ) + 3, y = 3 sec(θ) + 1, 0 ≤ θ < π/2\n",
        "\n",
        "\n",
        "\n"
      ],
      "metadata": {
        "id": "KXdxDTfDIT-w"
      }
    },
    {
      "cell_type": "code",
      "source": [
        "import sympy as sp\n",
        "import numpy as np\n",
        "import matplotlib.pyplot as plt\n",
        "\n",
        "# Definir la variable simbólica θ\n",
        "θ = sp.Symbol('θ')\n",
        "\n",
        "# Definir las funciones x y y en términos de θ\n",
        "x = sp.tan(θ) + 3\n",
        "y = 3 * sp.sec(θ) + 1\n",
        "\n",
        "# Obtener la regla de correspondencia en forma explícita\n",
        "expresion_x = sp.expand(x)\n",
        "expresion_y = sp.expand(y)\n",
        "\n",
        "# Imprimir la regla de correspondencia en forma explícita\n",
        "print(\"La regla de correspondencia en forma explícita es:\")\n",
        "print(\"x =\", expresion_x)\n",
        "print(\"y =\", expresion_y)\n",
        "\n",
        "# Calcular el dominio de la función f\n",
        "dominio = sp.Interval(0, sp.pi/2, right_open=True)\n",
        "\n",
        "# Calcular el rango de la función f\n",
        "rango = sp.Interval(1, sp.oo)\n",
        "\n",
        "# Imprimir el dominio y rango de la función f\n",
        "print(\"El dominio de f es:\", dominio)\n",
        "print(\"El rango de f es:\", rango)\n",
        "\n",
        "# Graficar la función f\n",
        "theta_vals = np.linspace(0, np.pi/2, 100)\n",
        "x_vals = np.tan(theta_vals) + 3\n",
        "y_vals = 3 / np.cos(theta_vals) + 1\n",
        "\n",
        "plt.plot(x_vals, y_vals)\n",
        "plt.xlabel('x')\n",
        "plt.ylabel('y')\n",
        "plt.title('Gráfica de f')\n",
        "plt.grid(True)\n",
        "plt.show()"
      ],
      "metadata": {
        "colab": {
          "base_uri": "https://localhost:8080/",
          "height": 559
        },
        "id": "4TO1Pw26O4Fr",
        "outputId": "c2b10019-7a6f-4ebc-9189-ee5e1a572ae5"
      },
      "execution_count": 5,
      "outputs": [
        {
          "output_type": "stream",
          "name": "stdout",
          "text": [
            "La regla de correspondencia en forma explícita es:\n",
            "x = tan(θ) + 3\n",
            "y = 3*sec(θ) + 1\n",
            "El dominio de f es: Interval.Ropen(0, pi/2)\n",
            "El rango de f es: Interval(1, oo)\n"
          ]
        },
        {
          "output_type": "display_data",
          "data": {
            "text/plain": [
              "<Figure size 640x480 with 1 Axes>"
            ],
            "image/png": "[encoded data removed]"
          },
          "metadata": {}
        }
      ]
    },
    {
      "cell_type": "markdown",
      "source": [
        "\n",
        "\n",
        "> 3. En cada caso, obtener las funciones suma, resta, producto, cociente y dar el dominio de cada una de ellas.\n",
        "\n",
        "\n",
        "> f(x) = x^2 + 1, g(x) = +√x − 3\n",
        "\n",
        "\n",
        "\n"
      ],
      "metadata": {
        "id": "u0CA0SbERke8"
      }
    },
    {
      "cell_type": "code",
      "source": [
        "\n",
        "\n",
        "import sympy as sp\n",
        "\n",
        "# Definir la variable simbólica x\n",
        "x = sp.Symbol('x')\n",
        "\n",
        "# Definir las funciones f(x) y g(x)\n",
        "f = x**2 + 1\n",
        "g = sp.sqrt(x - 3)\n",
        "\n",
        "# Definir las funciones suma, resta, producto y cociente\n",
        "suma = f + g\n",
        "resta = f - g\n",
        "producto = f * g\n",
        "cociente = f / g\n",
        "\n",
        "# Obtener el dominio de cada función\n",
        "dominio_f = sp.Reals\n",
        "dominio_g = sp.Interval(3, sp.oo)\n",
        "\n",
        "# Imprimir las funciones y sus dominios\n",
        "print(\"Función suma: \", suma)\n",
        "print(\"Dominio de la función suma: \", dominio_f.intersect(dominio_g))\n",
        "\n",
        "print(\"Función resta: \", resta)\n",
        "print(\"Dominio de la función resta: \", dominio_f.intersect(dominio_g))\n",
        "\n",
        "print(\"Función producto: \", producto)\n",
        "print(\"Dominio de la función producto: \", dominio_f.intersect(dominio_g))\n",
        "\n",
        "print(\"Función cociente: \", cociente)\n",
        "print(\"Dominio de la función cociente: \", dominio_f.intersect(dominio_g))"
      ],
      "metadata": {
        "colab": {
          "base_uri": "https://localhost:8080/"
        },
        "id": "Ir-Lkw8zR-vB",
        "outputId": "1cfd1891-891f-4a05-9913-896d09a64a54"
      },
      "execution_count": 6,
      "outputs": [
        {
          "output_type": "stream",
          "name": "stdout",
          "text": [
            "Función suma:  x**2 + sqrt(x - 3) + 1\n",
            "Dominio de la función suma:  Interval(3, oo)\n",
            "Función resta:  x**2 - sqrt(x - 3) + 1\n",
            "Dominio de la función resta:  Interval(3, oo)\n",
            "Función producto:  sqrt(x - 3)*(x**2 + 1)\n",
            "Dominio de la función producto:  Interval(3, oo)\n",
            "Función cociente:  (x**2 + 1)/sqrt(x - 3)\n",
            "Dominio de la función cociente:  Interval(3, oo)\n"
          ]
        }
      ]
    },
    {
      "cell_type": "markdown",
      "source": [
        "\n",
        "\n",
        "> h(x) = +p (x + 2)^2, k(x) = p (x + 3)(5 − x)\n",
        "\n"
      ],
      "metadata": {
        "id": "0Zetofw8Seop"
      }
    },
    {
      "cell_type": "code",
      "source": [
        "import sympy as sp\n",
        "\n",
        "# Definir la variable simbólica x\n",
        "x = sp.Symbol('x')\n",
        "p = sp.Symbol('p')\n",
        "\n",
        "# Definir las funciones h(x) y k(x)\n",
        "h = p * (x + 2)**2\n",
        "k = p * (x + 3) * (5 - x)\n",
        "\n",
        "# Definir las funciones suma, resta, producto y cociente\n",
        "suma = h + k\n",
        "resta = h - k\n",
        "producto = h * k\n",
        "cociente = h / k\n",
        "\n",
        "# Obtener el dominio de cada función\n",
        "dominio_h = sp.Reals\n",
        "dominio_k = sp.Interval(-sp.oo, 5)  # El dominio de k(x) está acotado por 5\n",
        "\n",
        "# Imprimir las funciones y sus dominios\n",
        "print(\"Función suma: \", suma)\n",
        "print(\"Dominio de la función suma: \", dominio_h.intersect(dominio_k))\n",
        "\n",
        "print(\"Función resta: \", resta)\n",
        "print(\"Dominio de la función resta: \", dominio_h.intersect(dominio_k))\n",
        "\n",
        "print(\"Función producto: \", producto)\n",
        "print(\"Dominio de la función producto: \", dominio_h.intersect(dominio_k))\n",
        "\n",
        "print(\"Función cociente: \", cociente)\n",
        "print(\"Dominio de la función cociente: \", dominio_h.intersect(dominio_k))"
      ],
      "metadata": {
        "colab": {
          "base_uri": "https://localhost:8080/"
        },
        "id": "H8bZJ5uDS5aT",
        "outputId": "6b530099-32e9-4f5f-b626-159428a85a3d"
      },
      "execution_count": 7,
      "outputs": [
        {
          "output_type": "stream",
          "name": "stdout",
          "text": [
            "Función suma:  p*(5 - x)*(x + 3) + p*(x + 2)**2\n",
            "Dominio de la función suma:  Interval(-oo, 5)\n",
            "Función resta:  -p*(5 - x)*(x + 3) + p*(x + 2)**2\n",
            "Dominio de la función resta:  Interval(-oo, 5)\n",
            "Función producto:  p**2*(5 - x)*(x + 2)**2*(x + 3)\n",
            "Dominio de la función producto:  Interval(-oo, 5)\n",
            "Función cociente:  (x + 2)**2/((5 - x)*(x + 3))\n",
            "Dominio de la función cociente:  Interval(-oo, 5)\n"
          ]
        }
      ]
    },
    {
      "cell_type": "markdown",
      "source": [
        "\n",
        "\n",
        "> 4. Para las siguientes funciones, obtener (f ◦ g)(x) y dar su dominio\n",
        "\n",
        "\n",
        "> f(x) = √x, g(x) = x^2 − 1\n",
        "\n",
        "\n"
      ],
      "metadata": {
        "id": "fU2AktKgTKzH"
      }
    },
    {
      "cell_type": "code",
      "source": [
        "import sympy as sp\n",
        "\n",
        "# Definir la variable simbólica x\n",
        "x = sp.Symbol('x')\n",
        "\n",
        "# Definir las funciones f(x) y g(x)\n",
        "f = sp.sqrt(x)\n",
        "g = x**2 - 1\n",
        "\n",
        "# Obtener la composición de funciones (f ◦ g)(x)\n",
        "comp_func = f.subs(x, g)\n",
        "\n",
        "# Obtener el dominio de la composición de funciones\n",
        "dominio_comp_func = sp.solve(sp.Gt(g, 0), x, domain=sp.S.Reals)\n",
        "\n",
        "# Imprimir la composición de funciones y su dominio\n",
        "print(\"Composición de funciones (f ◦ g)(x): \", comp_func)\n",
        "print(\"Dominio de la composición de funciones: \", dominio_comp_func)"
      ],
      "metadata": {
        "colab": {
          "base_uri": "https://localhost:8080/"
        },
        "id": "qhqTRu8nTXMC",
        "outputId": "889dda8a-f2ed-4d8e-8004-270d31b41983"
      },
      "execution_count": 8,
      "outputs": [
        {
          "output_type": "stream",
          "name": "stdout",
          "text": [
            "Composición de funciones (f ◦ g)(x):  sqrt(x**2 - 1)\n",
            "Dominio de la composición de funciones:  ((-oo < x) & (x < -1)) | ((1 < x) & (x < oo))\n"
          ]
        }
      ]
    },
    {
      "cell_type": "markdown",
      "source": [
        "\n",
        "\n",
        "> h(x) = x − 2, k(x) = 5x + √x\n",
        "\n"
      ],
      "metadata": {
        "id": "V4qCtApaTyfz"
      }
    },
    {
      "cell_type": "code",
      "source": [
        "import sympy as sp\n",
        "\n",
        "# Definir la variable simbólica x\n",
        "x = sp.Symbol('x')\n",
        "\n",
        "# Definir las funciones h(x) y k(x)\n",
        "h = x - 2\n",
        "k = 5*x + sp.sqrt(x)\n",
        "\n",
        "# Obtener la composición de funciones (f ◦ g)(x)\n",
        "comp_func = h.subs(x, k)\n",
        "\n",
        "# Obtener el dominio de la composición de funciones\n",
        "dominio_comp_func = sp.solveset(sp.Gt(k, 0), x, domain=sp.S.Reals)\n",
        "\n",
        "# Imprimir la composición de funciones y su dominio\n",
        "print(\"Composición de funciones (h ◦ k)(x): \", comp_func)\n",
        "print(\"Dominio de la composición de funciones: \", dominio_comp_func)"
      ],
      "metadata": {
        "colab": {
          "base_uri": "https://localhost:8080/"
        },
        "id": "vjRiveuLVc1t",
        "outputId": "9783ccee-d798-487c-95e1-aa4140b4377b"
      },
      "execution_count": 19,
      "outputs": [
        {
          "output_type": "stream",
          "name": "stdout",
          "text": [
            "Composición de funciones (h ◦ k)(x):  sqrt(x) + 5*x - 2\n",
            "Dominio de la composición de funciones:  Interval.open(0, oo)\n"
          ]
        }
      ]
    },
    {
      "cell_type": "markdown",
      "source": [
        "\n",
        "\n",
        "> 5. Dibuja las siguientes funciones, determina para cada una de ellas si es biyectiva y en caso de serlo,obtener su funci´on inversa y determinar su dominio y rango.\n",
        "\n",
        "\n",
        "> f1(x) ={x^2 + 2 , −2 ≤ x < 0 y 6−x/3, 0 ≤ x < 6\n",
        "\n",
        "\n",
        "\n"
      ],
      "metadata": {
        "id": "LyeLQvNhXSH5"
      }
    },
    {
      "cell_type": "code",
      "source": [
        "import numpy as np\n",
        "import matplotlib.pyplot as plt\n",
        "\n",
        "# Definir la función f1(x)\n",
        "def f1(x):\n",
        "    if -2 <= x < 0:\n",
        "        return x**2 + 2\n",
        "    elif 0 <= x < 6:\n",
        "        return 6 - x/3\n",
        "\n",
        "# Verificar si f1(x) es biyectiva\n",
        "# Para que una función sea biyectiva, debe ser inyectiva (uno a uno) y sobreyectiva (sobre)\n",
        "\n",
        "# Verificar si es inyectiva\n",
        "# Para que f1(x) sea inyectiva, debe pasar la prueba de la función creciente o decreciente en cada intervalo.\n",
        "is_inyectiva = True\n",
        "x_inyectiva = []\n",
        "y_inyectiva = []\n",
        "for x in np.linspace(-2, 6, 1000):\n",
        "    y = f1(x)\n",
        "    if len(y_inyectiva) > 0 and y == y_inyectiva[-1]:\n",
        "        is_inyectiva = False\n",
        "        break\n",
        "    x_inyectiva.append(x)\n",
        "    y_inyectiva.append(y)\n",
        "\n",
        "# Verificar si es sobreyectiva\n",
        "# Para que f1(x) sea sobreyectiva, el rango de la función debe ser igual al codominio, que en este caso sería (-infinito, infinito)\n",
        "is_sobreyectiva = True\n",
        "\n",
        "# Obtener la función inversa de f1(x)\n",
        "def f1_inversa(y):\n",
        "    if 2 <= y < 4:\n",
        "        return np.sqrt(y - 2)\n",
        "    elif 4 <= y < 6:\n",
        "        return 18 - 3*y\n",
        "\n",
        "# Calcular el dominio y el rango de la función inversa\n",
        "dominio_inversa = [2, 6]\n",
        "rango_inversa = [f1_inversa(i) for i in dominio_inversa]\n",
        "\n",
        "# Graficar la función f1(x)\n",
        "x = np.linspace(-2, 6, 1000)\n",
        "y = [f1(i) for i in x]\n",
        "plt.plot(x, y, label='f1(x)')\n",
        "\n",
        "# Graficar la función inversa f^-1(x)\n",
        "y_inversa = np.linspace(2, 6, 1000)\n",
        "x_inversa = [f1_inversa(i) for i in y_inversa]\n",
        "plt.plot(x_inversa, y_inversa, label='f^-1(x)')\n",
        "\n",
        "# Etiquetas y leyenda\n",
        "plt.xlabel('x')\n",
        "plt.ylabel('y')\n",
        "plt.title('Gráfico de f1(x) y su función inversa')\n",
        "plt.legend()\n",
        "\n",
        "# Mostrar la gráfica\n",
        "plt.grid(True)\n",
        "plt.show()\n",
        "\n",
        "# Imprimir los resultados corregidos\n",
        "print(\"Es f1(x) biyectiva? \", is_inyectiva and is_sobreyectiva)\n",
        "print(\"Función inversa de f1(x): f^-1(x) = { (y - 2), 2 ≤ y < 4, 18 - 3y, 4 ≤ y < 6 }\")\n",
        "print(\"Dominio de la función inversa: \", dominio_inversa)\n",
        "print(\"Rango de la función inversa: \", rango_inversa)"
      ],
      "metadata": {
        "colab": {
          "base_uri": "https://localhost:8080/",
          "height": 541
        },
        "id": "gPP3E2oieR-h",
        "outputId": "78ce283c-251b-4c1a-a739-6bb44466eb97"
      },
      "execution_count": 31,
      "outputs": [
        {
          "output_type": "display_data",
          "data": {
            "text/plain": [
              "<Figure size 640x480 with 1 Axes>"
            ],
            "image/png": "[encoded data removed]"
          },
          "metadata": {}
        },
        {
          "output_type": "stream",
          "name": "stdout",
          "text": [
            "Es f1(x) biyectiva?  True\n",
            "Función inversa de f1(x): f^-1(x) = { (y - 2), 2 ≤ y < 4, 18 - 3y, 4 ≤ y < 6 }\n",
            "Dominio de la función inversa:  [2, 6]\n",
            "Rango de la función inversa:  [0.0, None]\n"
          ]
        }
      ]
    },
    {
      "cell_type": "markdown",
      "source": [
        "\n",
        "\n",
        "> f2(x) = { 1 − x^2, −2 ≤ x < 0, 1 + sin(x) , 0 < x <π/2\n",
        "\n"
      ],
      "metadata": {
        "id": "2YtGnmvwY6nL"
      }
    },
    {
      "cell_type": "code",
      "source": [
        "import numpy as np\n",
        "import matplotlib.pyplot as plt\n",
        "from math import sin, pi\n",
        "\n",
        "# Definir la función f2(x)\n",
        "def f2(x):\n",
        "    if -2 <= x < 0:\n",
        "        return 1 - x**2\n",
        "    elif 0 < x < pi/2:\n",
        "        return 1 + sin(x)\n",
        "\n",
        "# Verificar si f2(x) es biyectiva\n",
        "# Para que una función sea biyectiva, debe ser inyectiva (uno a uno) y sobreyectiva (sobre)\n",
        "\n",
        "# Verificar si es inyectiva\n",
        "# Para que f2(x) sea inyectiva, debe pasar la prueba de la función creciente o decreciente en cada intervalo.\n",
        "is_inyectiva = True\n",
        "x_inyectiva = []\n",
        "y_inyectiva = []\n",
        "for x in np.linspace(-2, pi/2, 1000):\n",
        "    y = f2(x)\n",
        "    if len(y_inyectiva) > 0 and y == y_inyectiva[-1]:\n",
        "        is_inyectiva = False\n",
        "        break\n",
        "    x_inyectiva.append(x)\n",
        "    y_inyectiva.append(y)\n",
        "\n",
        "# Verificar si es sobreyectiva\n",
        "# Para que f2(x) sea sobreyectiva, el rango de la función debe ser igual al codominio, que en este caso sería (-infinito, infinito)\n",
        "is_sobreyectiva = True\n",
        "\n",
        "# Obtener la función inversa de f2(x)\n",
        "def f2_inversa(y):\n",
        "    if -2 <= y < 0:\n",
        "        return np.sqrt(1 - y)\n",
        "    elif 1 < y < 2:\n",
        "        return np.arcsin(y - 1)\n",
        "\n",
        "# Calcular el dominio y el rango de la función inversa\n",
        "dominio_inversa = [-2, 2]\n",
        "rango_inversa = [f2_inversa(i) for i in dominio_inversa]\n",
        "\n",
        "# Graficar la función f2(x)\n",
        "x = np.linspace(-2, pi/2, 1000)\n",
        "y = [f2(i) for i in x]\n",
        "plt.plot(x, y, label='f2(x)')\n",
        "\n",
        "# Graficar la función inversa f^-1(x)\n",
        "y_inversa = np.linspace(-2, 2, 1000)\n",
        "x_inversa = [f2_inversa(i) for i in y_inversa]\n",
        "plt.plot(x_inversa, y_inversa, label='f^-1(x)')\n",
        "\n",
        "# Etiquetas y leyenda\n",
        "plt.xlabel('x')\n",
        "plt.ylabel('y')\n",
        "plt.title('Gráfico de f2(x) y su función inversa')\n",
        "plt.legend()\n",
        "\n",
        "# Mostrar la gráfica\n",
        "plt.grid(True)\n",
        "plt.show()\n",
        "\n",
        "# Imprimir los resultados corregidos\n",
        "print(\"Es f2(x) biyectiva? \", is_inyectiva and is_sobreyectiva)\n",
        "print(\"Función inversa de f2(x): f^-1(x) = { sqrt(1 - y), -2 ≤ y < 0, arcsin(y - 1), 1 < y < 2 }\")\n",
        "print(\"Dominio de la función inversa: \", dominio_inversa)\n",
        "print(\"Rango de la función inversa: \", rango_inversa)"
      ],
      "metadata": {
        "colab": {
          "base_uri": "https://localhost:8080/",
          "height": 541
        },
        "id": "kGJIYBa6gihl",
        "outputId": "c2c91047-0b59-449b-fc6d-74ce9795da6c"
      },
      "execution_count": 32,
      "outputs": [
        {
          "output_type": "display_data",
          "data": {
            "text/plain": [
              "<Figure size 640x480 with 1 Axes>"
            ],
            "image/png": "[encoded data removed]"
          },
          "metadata": {}
        },
        {
          "output_type": "stream",
          "name": "stdout",
          "text": [
            "Es f2(x) biyectiva?  True\n",
            "Función inversa de f2(x): f^-1(x) = { sqrt(1 - y), -2 ≤ y < 0, arcsin(y - 1), 1 < y < 2 }\n",
            "Dominio de la función inversa:  [-2, 2]\n",
            "Rango de la función inversa:  [1.7320508075688772, None]\n"
          ]
        }
      ]
    },
    {
      "cell_type": "markdown",
      "source": [
        "\n",
        "\n",
        "> 6. Encuentra el dominio de las siguientes funciones.\n",
        "\n",
        "\n",
        "> y = ln (−1/x+1)\n",
        "\n",
        "\n"
      ],
      "metadata": {
        "id": "rNS2TUBShRn8"
      }
    },
    {
      "cell_type": "code",
      "source": [
        "import sympy as sp\n",
        "\n",
        "# Define la variable simbólica x\n",
        "x = sp.symbols('x')\n",
        "\n",
        "# Define la función y\n",
        "y = sp.log(-1/x + 1)\n",
        "\n",
        "# Encuentra el dominio de la función\n",
        "dominio = sp.solve(-1/x + 1 > 0, x)\n",
        "\n",
        "# Imprime el dominio\n",
        "print(\"El dominio de la función es:\", dominio)"
      ],
      "metadata": {
        "colab": {
          "base_uri": "https://localhost:8080/"
        },
        "id": "YxGV0KGuh5qB",
        "outputId": "e0e5e8f7-8715-4e82-cbb4-e3c63fda171d"
      },
      "execution_count": 46,
      "outputs": [
        {
          "output_type": "stream",
          "name": "stdout",
          "text": [
            "El dominio de la función es: (1 < x) | (x < 0)\n"
          ]
        }
      ]
    },
    {
      "cell_type": "markdown",
      "source": [
        "y = ln (5/√x+2)"
      ],
      "metadata": {
        "id": "TIxzsl2MmQmD"
      }
    },
    {
      "cell_type": "code",
      "source": [
        "import sympy as sp\n",
        "\n",
        "# Define la variable simbólica x\n",
        "x = sp.symbols('x')\n",
        "\n",
        "# Define la función y\n",
        "y = sp.ln(5/sp.sqrt(x + 2))\n",
        "\n",
        "# Encuentra el dominio de la función\n",
        "dominio = sp.solve(x + 2 > 0, x)\n",
        "\n",
        "# Imprime el dominio\n",
        "print(\"El dominio de la función es:\", dominio)"
      ],
      "metadata": {
        "colab": {
          "base_uri": "https://localhost:8080/"
        },
        "id": "Ijp_smKZmi3i",
        "outputId": "97bfd096-8f7e-4482-e36f-4b0b962ea5ad"
      },
      "execution_count": 47,
      "outputs": [
        {
          "output_type": "stream",
          "name": "stdout",
          "text": [
            "El dominio de la función es: (-2 < x) & (x < oo)\n"
          ]
        }
      ]
    },
    {
      "cell_type": "markdown",
      "source": [
        "\n",
        "\n",
        "> 7. Verificar las siguientes expresiones.\n",
        "\n",
        "\n",
        "> e^2x = sinh(2x) + cosh(2x)\n",
        "\n",
        "\n",
        "\n"
      ],
      "metadata": {
        "id": "ukM1cQyImm7X"
      }
    },
    {
      "cell_type": "code",
      "source": [
        "import sympy as sp\n",
        "\n",
        "# Define la variable simbólica x\n",
        "x = sp.symbols('x')\n",
        "\n",
        "# Verifica la expresión\n",
        "expresion = sp.exp(2*x) - sp.sinh(2*x) - sp.cosh(2*x)\n",
        "\n",
        "# Simplifica la expresión\n",
        "expresion_simplificada = sp.simplify(expresion)\n",
        "\n",
        "# Verifica si la expresión es igual a cero\n",
        "es_igual_a_cero = expresion_simplificada == 0\n",
        "\n",
        "# Imprime el resultado\n",
        "if es_igual_a_cero:\n",
        "    print(\"La expresión es válida.\")\n",
        "else:\n",
        "    print(\"La expresión no es válida.\")"
      ],
      "metadata": {
        "colab": {
          "base_uri": "https://localhost:8080/"
        },
        "id": "hcdVEtxAmtHq",
        "outputId": "7014bb2c-396c-41f4-abad-56ff8bf6f32c"
      },
      "execution_count": 48,
      "outputs": [
        {
          "output_type": "stream",
          "name": "stdout",
          "text": [
            "La expresión es válida.\n"
          ]
        }
      ]
    },
    {
      "cell_type": "markdown",
      "source": [
        "\n",
        "\n",
        "> tanh^2(x) + sech^2(x) = 1\n",
        "\n"
      ],
      "metadata": {
        "id": "TS5dkW5enCSl"
      }
    },
    {
      "cell_type": "code",
      "source": [
        "import sympy as sp\n",
        "\n",
        "# Define la variable simbólica x\n",
        "x = sp.symbols('x')\n",
        "\n",
        "# Verifica la expresión\n",
        "expresion = sp.tanh(x)**2 + sp.sech(x)**2 - 1\n",
        "\n",
        "# Simplifica la expresión\n",
        "expresion_simplificada = sp.simplify(expresion)\n",
        "\n",
        "# Verifica si la expresión es igual a cero\n",
        "es_igual_a_cero = expresion_simplificada == 0\n",
        "\n",
        "# Imprime el resultado\n",
        "if es_igual_a_cero:\n",
        "    print(\"La expresión es válida.\")\n",
        "else:\n",
        "    print(\"La expresión no es válida.\")"
      ],
      "metadata": {
        "colab": {
          "base_uri": "https://localhost:8080/"
        },
        "id": "5Zd5woQMnJH3",
        "outputId": "3ae8360c-ec46-4b01-a90b-9a9cb66c3376"
      },
      "execution_count": 49,
      "outputs": [
        {
          "output_type": "stream",
          "name": "stdout",
          "text": [
            "La expresión es válida.\n"
          ]
        }
      ]
    },
    {
      "cell_type": "markdown",
      "source": [
        "En cada uno de los siguientes problemas, formule una función que lo modele correctamente.\n",
        "\n",
        "\n",
        "> 8. Exprese la distancia desde un punto (x, y) de la gráfica de la recta x+y = 1 al punto (2, 3) como función de x.\n",
        "\n",
        "f(x) = sqrt((2-x)^2 + (2 + x)^2)\n"
      ],
      "metadata": {
        "id": "wQA2PxXcnax1"
      }
    },
    {
      "cell_type": "code",
      "source": [
        "import math\n",
        "\n",
        "def distancia_punto_recta(x):\n",
        "    y = 1 - x\n",
        "    distancia = math.sqrt((2 - x)**2 + (3 - y)**2)\n",
        "    return distancia\n",
        "\n",
        "# Prueba la función con un valor de x\n",
        "x = 1  # Valor de x a evaluar\n",
        "resultado = distancia_punto_recta(x)\n",
        "\n",
        "# Imprime el resultado\n",
        "print(\"La distancia desde el punto ({}, {}) a la recta x+y=1 al punto (2, 3) es: {}\".format(x, 1 - x, resultado))\n"
      ],
      "metadata": {
        "colab": {
          "base_uri": "https://localhost:8080/"
        },
        "id": "dsyhCb3tn1eE",
        "outputId": "4842cce7-ee50-438e-e513-25db61306ffc"
      },
      "execution_count": 58,
      "outputs": [
        {
          "output_type": "stream",
          "name": "stdout",
          "text": [
            "La distancia desde el punto (1, 0) a la recta x+y=1 al punto (2, 3) es: 3.1622776601683795\n"
          ]
        }
      ]
    },
    {
      "cell_type": "markdown",
      "source": [
        "9. Exprese el área de un triángulo equilátero en función de su altura h.\n",
        "\n",
        "Área = (h^2) * (√3 / 4)"
      ],
      "metadata": {
        "id": "VVkjpt1nq-Yt"
      }
    },
    {
      "cell_type": "code",
      "source": [
        "import math\n",
        "\n",
        "def calcular_area(h):\n",
        "    area = (h**2) * (math.sqrt(3) / 4)\n",
        "    return area\n",
        "\n",
        "altura = 5\n",
        "resultado = calcular_area(altura)\n",
        "print(\"El área del triángulo equilátero con altura {} es: {}\".format(altura, resultado))"
      ],
      "metadata": {
        "colab": {
          "base_uri": "https://localhost:8080/"
        },
        "id": "60AuJM9Zs-hi",
        "outputId": "900fe90d-0d52-41b3-c5b8-13c1be33ca72"
      },
      "execution_count": 62,
      "outputs": [
        {
          "output_type": "stream",
          "name": "stdout",
          "text": [
            "El área del triángulo equilátero con altura 5 es: 10.825317547305483\n"
          ]
        }
      ]
    },
    {
      "cell_type": "markdown",
      "source": [
        "\n",
        "\n",
        "> 10. En la figura siguiente, el punto A representa una isla que se encuentra a 6 kilómetros del punto B, el cual es el punto más cercano sobre una playa recta. Un almacén está en el punto C a 7 kilómetros de B sobre la playa. Si un hombre puede remar a razón de 4 km/h y caminar a razón de 5 km/h, establezca una expresión que relacione a la posición del punto de desembarco P con el tiempo que tarde en llegar de A a C.\n",
        "\n",
        "Tiempo total = Tiempo de remar de A a P + Tiempo de caminar de P a C\n",
        "= AP / 4 + PC / 5\n",
        "= (√(AC^2 - PC^2) / 4) + (PC / 5)"
      ],
      "metadata": {
        "id": "tcVI964otahu"
      }
    },
    {
      "cell_type": "code",
      "source": [
        "import math\n",
        "\n",
        "def calcular_tiempo_total(AC, PC):\n",
        "    if AC < PC:\n",
        "        raise ValueError(\"El valor de AC debe ser mayor o igual que PC\")\n",
        "\n",
        "    AP = math.sqrt(AC**2 - PC**2)\n",
        "    tiempo_remar_AP = AP / 4\n",
        "    tiempo_caminar_PC = PC / 5\n",
        "    tiempo_total = tiempo_remar_AP + tiempo_caminar_PC\n",
        "    return tiempo_total\n",
        "\n",
        "# Ejemplo de uso\n",
        "AC = 6\n",
        "PC = 7\n",
        "try:\n",
        "    resultado = calcular_tiempo_total(AC, PC)\n",
        "    print(\"El tiempo total para llegar de A a C es: {}\".format(resultado))\n",
        "except ValueError as e:\n",
        "    print(\"Error: {}\".format(e))"
      ],
      "metadata": {
        "colab": {
          "base_uri": "https://localhost:8080/"
        },
        "id": "51IrjkGvud7K",
        "outputId": "ac065067-9e3a-437b-a835-43a76e988b26"
      },
      "execution_count": 65,
      "outputs": [
        {
          "output_type": "stream",
          "name": "stdout",
          "text": [
            "Error: El valor de AC debe ser mayor o igual que PC\n"
          ]
        }
      ]
    },
    {
      "cell_type": "markdown",
      "source": [],
      "metadata": {
        "id": "1b8tCOUVvk-I"
      }
    }
  ]
}